{
 "cells": [
  {
   "cell_type": "markdown",
   "metadata": {},
   "source": [
    "Dataset was provided by Lukas, therefore I don't submit it along with the assignment.\n",
    "\n",
    "Here, I import the computed coxdata file and calculate q-values. For complete code, see program.py.\n",
    "\n",
    "As an important remark, I had huge problems with running the cox function on this dataset. I got convergence errors for many of the features. I troubleshooted and was advised to reduce the step size of the fitting function. Still, I got a lot of convergence errors. To solve this temporarily, I had to find the problematic genes and remove them from the dataset, manually. After a while, I got tired of this and decided to truncate the dataframe after approx 13 000 genes. This is obviously not an acceptable solution but I did not have time to troubleshoot further.\n",
    "\n",
    "The code to calculate the q-values was provided from course members, who re-used the code from the course sessions."
   ]
  },
  {
   "cell_type": "code",
   "execution_count": 3,
   "metadata": {
    "collapsed": true
   },
   "outputs": [],
   "source": [
    "import pandas as pd\n",
    "import pickle"
   ]
  },
  {
   "cell_type": "code",
   "execution_count": 2,
   "metadata": {
    "collapsed": true
   },
   "outputs": [],
   "source": [
    "# Qvals function\n",
    "def qvalues(p_values,pi_0_average):\n",
    "   m=len(p_values)\n",
    "\n",
    "   # Sort p-values\n",
    "   p_values=p_values.sort_values(ascending=True)\n",
    "\n",
    "   # calculate q(p[m])\n",
    "   q_p_m = pi_0_average*max(p_values)\n",
    "\n",
    "   # Calculate q-values\n",
    "   c=0\n",
    "   q_values=[]\n",
    "\n",
    "   for i in range(m,0,-1):\n",
    "       if q_values:\n",
    "           y=q_values[c]\n",
    "           c=c+1\n",
    "       else:\n",
    "           y=q_p_m\n",
    "\n",
    "       x=(pi_0_average*m*p_values[(i-1)])/(i)\n",
    "       q_values.append(min(x,y))\n",
    "   return q_values"
   ]
  },
  {
   "cell_type": "code",
   "execution_count": 5,
   "metadata": {},
   "outputs": [],
   "source": [
    "# Import data\n",
    "file_coxdata = open('data/coxdata.obj', 'rb')\n",
    "coxdata = pickle.load(file_coxdata)\n",
    "\n",
    "p_vals = coxdata.loc[:,\"p\"]  "
   ]
  },
  {
   "cell_type": "code",
   "execution_count": 6,
   "metadata": {},
   "outputs": [
    {
     "name": "stdout",
     "output_type": "stream",
     "text": [
      "nr of significant features: 4078\n"
     ]
    }
   ],
   "source": [
    "# Estimate pi-zero\n",
    "m=len(p_vals)\n",
    "lam=np.arange(0.75,0.95,0.01)\n",
    "pi0_estimates=[]\n",
    "for n in lam:\n",
    "   pi0_estimates.append(sum(i > n for i in p_vals)/(m*(1-n)))\n",
    "pi_0_average = np.mean(pi0_estimates)\n",
    "\n",
    "# Get qvals\n",
    "q_values=qvalues(p_vals,pi_0_average)\n",
    "\n",
    "# Print result\n",
    "count = 0\n",
    "for i in q_values:\n",
    "    if i < 0.05:\n",
    "        count+=1\n",
    "print(\"nr of significant features:\", count)"
   ]
  },
  {
   "cell_type": "markdown",
   "metadata": {},
   "source": [
    "Here we see the number of features that have q-values less than 0.05."
   ]
  }
 ],
 "metadata": {
  "kernelspec": {
   "display_name": "Python 3",
   "language": "python",
   "name": "python3"
  },
  "language_info": {
   "codemirror_mode": {
    "name": "ipython",
    "version": 3
   },
   "file_extension": ".py",
   "mimetype": "text/x-python",
   "name": "python",
   "nbconvert_exporter": "python",
   "pygments_lexer": "ipython3",
   "version": "3.6.3"
  }
 },
 "nbformat": 4,
 "nbformat_minor": 2
}
